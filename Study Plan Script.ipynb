{
 "cells": [
  {
   "cell_type": "code",
   "execution_count": 6,
   "id": "06989370",
   "metadata": {},
   "outputs": [
    {
     "name": "stdout",
     "output_type": "stream",
     "text": [
      "Study plan exported to study_plan.csv file.\n"
     ]
    }
   ],
   "source": [
    "import random\n",
    "import csv\n",
    "from datetime import datetime, timedelta\n",
    "\n",
    "# Define study hours for each subject\n",
    "study_hours = {'R Programming': 53, 'SQL': 69, 'Python': 185, 'Excel': 56, 'Power BI': 42}\n",
    "\n",
    "# Define study hours for each day\n",
    "max_hours = {'Monday': 1, 'Tuesday': 1, 'Wednesday': 1, 'Thursday': 1, 'Friday': 1, 'Saturday': 2, 'Sunday': 2}\n",
    "\n",
    "# Initialize study plan\n",
    "study_plan = {}\n",
    "\n",
    "# Get start date\n",
    "start_date = datetime(2023, 3, 18)\n",
    "\n",
    "# Generate study plan\n",
    "while sum(study_hours.values()) > 0:\n",
    "    date_str = start_date.strftime('%d-%m-%Y')\n",
    "    study_plan[date_str] = {}\n",
    "\n",
    "    # Randomize subjects\n",
    "    subjects = list(study_hours.keys())\n",
    "    random.shuffle(subjects)\n",
    "\n",
    "    # Allocate study hours for the day\n",
    "    hours_left = max_hours[start_date.strftime('%A')]\n",
    "    for subject in subjects:\n",
    "        if study_hours[subject] == 0:\n",
    "            continue\n",
    "        elif study_hours[subject] <= hours_left:\n",
    "            study_plan[date_str][subject] = study_hours[subject]\n",
    "            hours_left -= study_hours[subject]\n",
    "            study_hours[subject] = 0\n",
    "        else:\n",
    "            study_plan[date_str][subject] = hours_left\n",
    "            study_hours[subject] -= hours_left\n",
    "            hours_left = 0\n",
    "            break\n",
    "\n",
    "    # Move to next day\n",
    "    start_date += timedelta(days=1)\n",
    "\n",
    "# Export study plan to CSV\n",
    "with open('study_plan.csv', 'w', newline='') as csvfile:\n",
    "    writer = csv.writer(csvfile)\n",
    "    writer.writerow(['Date', 'R Programming', 'SQL', 'Python', 'Excel', 'Power BI'])\n",
    "\n",
    "    for date, subjects in study_plan.items():\n",
    "        row = [date]\n",
    "        for subject in study_hours.keys():\n",
    "            row.append(subjects.get(subject, 0))\n",
    "        writer.writerow(row)\n",
    "\n",
    "print(\"Study plan exported to study_plan.csv file.\")"
   ]
  },
  {
   "cell_type": "code",
   "execution_count": null,
   "id": "d4564d16",
   "metadata": {},
   "outputs": [],
   "source": []
  }
 ],
 "metadata": {
  "kernelspec": {
   "display_name": "Python 3 (ipykernel)",
   "language": "python",
   "name": "python3"
  },
  "language_info": {
   "codemirror_mode": {
    "name": "ipython",
    "version": 3
   },
   "file_extension": ".py",
   "mimetype": "text/x-python",
   "name": "python",
   "nbconvert_exporter": "python",
   "pygments_lexer": "ipython3",
   "version": "3.8.16"
  },
  "varInspector": {
   "cols": {
    "lenName": 16,
    "lenType": 16,
    "lenVar": 40
   },
   "kernels_config": {
    "python": {
     "delete_cmd_postfix": "",
     "delete_cmd_prefix": "del ",
     "library": "var_list.py",
     "varRefreshCmd": "print(var_dic_list())"
    },
    "r": {
     "delete_cmd_postfix": ") ",
     "delete_cmd_prefix": "rm(",
     "library": "var_list.r",
     "varRefreshCmd": "cat(var_dic_list()) "
    }
   },
   "types_to_exclude": [
    "module",
    "function",
    "builtin_function_or_method",
    "instance",
    "_Feature"
   ],
   "window_display": false
  }
 },
 "nbformat": 4,
 "nbformat_minor": 5
}
